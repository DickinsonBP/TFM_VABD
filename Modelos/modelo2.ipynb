{
 "cells": [
  {
   "cell_type": "markdown",
   "id": "74d4feb8",
   "metadata": {},
   "source": [
    "# Modelo 2: Clustering de jugadoras por criterios"
   ]
  },
  {
   "cell_type": "code",
   "execution_count": null,
   "id": "855e5628",
   "metadata": {},
   "outputs": [],
   "source": [
    "print('Hola')"
   ]
  }
 ],
 "metadata": {
  "kernelspec": {
   "display_name": "Python 3",
   "language": "python",
   "name": "python3"
  },
  "language_info": {
   "name": "python",
   "version": "3.12.9"
  }
 },
 "nbformat": 4,
 "nbformat_minor": 5
}
