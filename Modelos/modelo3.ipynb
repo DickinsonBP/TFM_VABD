{
 "cells": [
  {
   "cell_type": "code",
   "execution_count": 9,
   "id": "19d4cc9a",
   "metadata": {},
   "outputs": [
    {
     "ename": "RuntimeError",
     "evalue": "('Pycaret only supports python 3.9, 3.10, 3.11. Your actual Python version: ', sys.version_info(major=3, minor=12, micro=9, releaselevel='final', serial=0), 'Please DOWNGRADE your Python version.')",
     "output_type": "error",
     "traceback": [
      "\u001b[31m---------------------------------------------------------------------------\u001b[39m",
      "\u001b[31mRuntimeError\u001b[39m                              Traceback (most recent call last)",
      "\u001b[36mCell\u001b[39m\u001b[36m \u001b[39m\u001b[32mIn[9]\u001b[39m\u001b[32m, line 9\u001b[39m\n\u001b[32m      6\u001b[39m \u001b[38;5;28;01mimport\u001b[39;00m\u001b[38;5;250m \u001b[39m\u001b[34;01mmatplotlib\u001b[39;00m\u001b[34;01m.\u001b[39;00m\u001b[34;01mpyplot\u001b[39;00m\u001b[38;5;250m \u001b[39m\u001b[38;5;28;01mas\u001b[39;00m\u001b[38;5;250m \u001b[39m\u001b[34;01mplt\u001b[39;00m\n\u001b[32m      8\u001b[39m \u001b[38;5;66;03m# import statsmodels.api as sm\u001b[39;00m\n\u001b[32m----> \u001b[39m\u001b[32m9\u001b[39m \u001b[38;5;28;01mfrom\u001b[39;00m\u001b[38;5;250m \u001b[39m\u001b[34;01mpycaret\u001b[39;00m\u001b[34;01m.\u001b[39;00m\u001b[34;01mclustering\u001b[39;00m\u001b[38;5;250m \u001b[39m\u001b[38;5;28;01mimport\u001b[39;00m ClusteringExperiment\n\u001b[32m     10\u001b[39m \u001b[38;5;28;01mimport\u001b[39;00m\u001b[38;5;250m \u001b[39m\u001b[34;01mpycaret\u001b[39;00m\u001b[34;01m.\u001b[39;00m\u001b[34;01mutils\u001b[39;00m\u001b[38;5;250m \u001b[39m\u001b[38;5;28;01mas\u001b[39;00m\u001b[38;5;250m \u001b[39m\u001b[34;01mpycu\u001b[39;00m\n",
      "\u001b[36mFile \u001b[39m\u001b[32mc:\\Users\\dicki\\AppData\\Local\\Programs\\Python\\Python312\\Lib\\site-packages\\pycaret\\__init__.py:22\u001b[39m\n\u001b[32m     16\u001b[39m     \u001b[38;5;28;01mraise\u001b[39;00m \u001b[38;5;167;01mRuntimeError\u001b[39;00m(\n\u001b[32m     17\u001b[39m         \u001b[33m\"\u001b[39m\u001b[33mPycaret only supports python 3.9, 3.10, 3.11. Your actual Python version: \u001b[39m\u001b[33m\"\u001b[39m,\n\u001b[32m     18\u001b[39m         sys.version_info,\n\u001b[32m     19\u001b[39m         \u001b[33m\"\u001b[39m\u001b[33mPlease UPGRADE your Python version.\u001b[39m\u001b[33m\"\u001b[39m,\n\u001b[32m     20\u001b[39m     )\n\u001b[32m     21\u001b[39m \u001b[38;5;28;01melif\u001b[39;00m sys.version_info >= (\u001b[32m3\u001b[39m, \u001b[32m12\u001b[39m):\n\u001b[32m---> \u001b[39m\u001b[32m22\u001b[39m     \u001b[38;5;28;01mraise\u001b[39;00m \u001b[38;5;167;01mRuntimeError\u001b[39;00m(\n\u001b[32m     23\u001b[39m         \u001b[33m\"\u001b[39m\u001b[33mPycaret only supports python 3.9, 3.10, 3.11. Your actual Python version: \u001b[39m\u001b[33m\"\u001b[39m,\n\u001b[32m     24\u001b[39m         sys.version_info,\n\u001b[32m     25\u001b[39m         \u001b[33m\"\u001b[39m\u001b[33mPlease DOWNGRADE your Python version.\u001b[39m\u001b[33m\"\u001b[39m,\n\u001b[32m     26\u001b[39m     )\n",
      "\u001b[31mRuntimeError\u001b[39m: ('Pycaret only supports python 3.9, 3.10, 3.11. Your actual Python version: ', sys.version_info(major=3, minor=12, micro=9, releaselevel='final', serial=0), 'Please DOWNGRADE your Python version.')"
     ]
    }
   ],
   "source": [
    "import os\n",
    "from dotenv import load_dotenv\n",
    "\n",
    "import pandas as pd\n",
    "import numpy as np\n",
    "import matplotlib.pyplot as plt\n",
    "\n",
    "# import statsmodels.api as sm\n",
    "from pycaret.clustering import ClusteringExperiment\n",
    "import pycaret.utils as pycu"
   ]
  },
  {
   "cell_type": "code",
   "execution_count": null,
   "id": "2425bbc1",
   "metadata": {},
   "outputs": [],
   "source": [
    "load_dotenv()"
   ]
  },
  {
   "cell_type": "code",
   "execution_count": null,
   "id": "40666f86",
   "metadata": {},
   "outputs": [],
   "source": [
    "df = pd.read_csv(os.getenv(\"TRANSFORM_DATA_PATH\"), sep=\";\")\n",
    "df.head(5)"
   ]
  },
  {
   "cell_type": "code",
   "execution_count": null,
   "id": "a1182682",
   "metadata": {},
   "outputs": [],
   "source": [
    "drop_cols = ['Nombre', 'Temporada', 'Equipo', 'Minutos']\n",
    "df_features = df.drop(columns=drop_cols)\n",
    "df.head(5)"
   ]
  },
  {
   "cell_type": "code",
   "execution_count": null,
   "id": "22c9d019",
   "metadata": {},
   "outputs": [],
   "source": [
    "s = ClusteringExperiment()\n",
    "s.setup(data, normalize = True)"
   ]
  },
  {
   "cell_type": "code",
   "execution_count": null,
   "id": "a56f181a",
   "metadata": {},
   "outputs": [],
   "source": []
  }
 ],
 "metadata": {
  "kernelspec": {
   "display_name": "TFM_VABD-FvKJur8L",
   "language": "python",
   "name": "python3"
  },
  "language_info": {
   "codemirror_mode": {
    "name": "ipython",
    "version": 3
   },
   "file_extension": ".py",
   "mimetype": "text/x-python",
   "name": "python",
   "nbconvert_exporter": "python",
   "pygments_lexer": "ipython3",
   "version": "3.12.9"
  }
 },
 "nbformat": 4,
 "nbformat_minor": 5
}
